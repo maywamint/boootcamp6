{
 "cells":[
  {
   "cell_type":"markdown",
   "source":[
    "### ATM HOMEWORK"
   ],
   "attachments":{
    
   },
   "metadata":{
    "datalore":{
     "node_id":"Xyu0X8A9MCDEslum4uNsyx",
     "type":"MD",
     "hide_input_from_viewers":false,
     "hide_output_from_viewers":false
    }
   }
  },
  {
   "cell_type":"code",
   "source":[
    "class ATM:\n",
    "     def __init__(self,name, password ,balance):\n",
    "         self.name = name \n",
    "         self.password = password\n",
    "         self.balance = balance\n",
    "\n",
    "#change_id_name\n",
    "def change_name(self, new_acc_name):\n",
    "        self.name = new_acc_name\n",
    "        print(f\"New Name: {self.name}\")\n",
    "        print(\"Your account name has been changed.\")\n",
    "\n",
    "\n",
    "         \n",
    " #change_password\n",
    "   \n",
    "def change_password(self, new_password):\n",
    "        self.password = new_password\n",
    "        print(f\"New Password: {self.password}\")\n",
    "        print(\"Your password has been changed successfully.\")\n",
    "\n",
    "#check_balance\n",
    "    \n",
    "def check_balance(self):\n",
    "         text = f\"Account:{self.name},Balance:{self.balance}\"\n",
    "         print(text)\n",
    "\n",
    " #deposit\n",
    "         \n",
    "def deposit (self,money):\n",
    "         self.balance += money\n",
    "         print(f\"Deposit total {money} Baht . New balance: {self.balance}\")\n",
    "         print(\"Deposit successfully.\")\n",
    "\n",
    "\n",
    "#withdraw  \n",
    "\n",
    "def withdraw(self, money):\n",
    "    if money > self.balance:\n",
    "        print(\"Your balance is insufficient.\")\n",
    "    else:\n",
    "        self.balance -= money \n",
    "        print(f\"Total Balance: {self.balance} THB\")\n",
    "        print(\"Withdraw succesfuly \") \n"
   ],
   "execution_count":22,
   "outputs":[
    
   ],
   "metadata":{
    "datalore":{
     "node_id":"iIEouee9vNvoMHBt5MdYDQ",
     "type":"CODE",
     "hide_input_from_viewers":false,
     "hide_output_from_viewers":false
    }
   }
  }
 ],
 "metadata":{
  "kernelspec":{
   "display_name":"Python",
   "language":"python",
   "name":"python"
  },
  "datalore":{
   "version":1,
   "computation_mode":"JUPYTER",
   "package_manager":"pip",
   "base_environment":"default",
   "packages":[
    
   ]
  }
 },
 "nbformat":4,
 "nbformat_minor":4
}